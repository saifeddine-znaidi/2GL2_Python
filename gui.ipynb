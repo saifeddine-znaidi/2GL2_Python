{
  "nbformat": 4,
  "nbformat_minor": 0,
  "metadata": {
    "colab": {
      "name": "gui.ipynb",
      "provenance": [],
      "authorship_tag": "ABX9TyMHkubc84ixGO21dymbfchg",
      "include_colab_link": true
    },
    "kernelspec": {
      "name": "python3",
      "display_name": "Python 3"
    }
  },
  "cells": [
    {
      "cell_type": "markdown",
      "metadata": {
        "id": "view-in-github",
        "colab_type": "text"
      },
      "source": [
        "<a href=\"https://colab.research.google.com/github/nour55/ProjectFinal/blob/master/gui.ipynb\" target=\"_parent\"><img src=\"https://colab.research.google.com/assets/colab-badge.svg\" alt=\"Open In Colab\"/></a>"
      ]
    },
    {
      "cell_type": "code",
      "metadata": {
        "id": "p0dDHkyugJwT",
        "colab_type": "code",
        "colab": {
          "base_uri": "https://localhost:8080/",
          "height": 153
        },
        "outputId": "5a8a8b49-38eb-4bbe-d837-b3abc411d48b"
      },
      "source": [
        "!git clone https://github.com/nour55/ProjectFinal"
      ],
      "execution_count": 1,
      "outputs": [
        {
          "output_type": "stream",
          "text": [
            "Cloning into 'ProjectFinal'...\n",
            "remote: Enumerating objects: 29, done.\u001b[K\n",
            "remote: Counting objects: 100% (29/29), done.\u001b[K\n",
            "remote: Compressing objects: 100% (29/29), done.\u001b[K\n",
            "remote: Total 51959 (delta 11), reused 0 (delta 0), pack-reused 51930\u001b[K\n",
            "Receiving objects: 100% (51959/51959), 302.09 MiB | 14.34 MiB/s, done.\n",
            "Resolving deltas: 100% (11/11), done.\n",
            "Checking out files: 100% (51942/51942), done.\n"
          ],
          "name": "stdout"
        }
      ]
    }
  ]
}